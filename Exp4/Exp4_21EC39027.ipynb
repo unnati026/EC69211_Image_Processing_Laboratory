{
  "cells": [
    {
      "cell_type": "markdown",
      "metadata": {},
      "source": [
        "# <center>Image and Video Processing Lab</center>\n",
        "## <center>Experiment 4</center>\n",
        "\n",
        "____________________\n",
        "\n",
        "### <center>Submitted by: Unnati Singh, 21EC39027</center>\n",
        "\n",
        "_____________________"
      ]
    },
    {
      "cell_type": "code",
      "execution_count": 1,
      "metadata": {
        "id": "7oS0qGP-a65i"
      },
      "outputs": [],
      "source": [
        "import numpy as np\n",
        "from PIL import Image\n",
        "import matplotlib.pyplot as plt\n",
        "import os\n",
        "\n",
        "from IPython.display import display\n",
        "import ipywidgets as widgets\n",
        "from ipywidgets import Output"
      ]
    },
    {
      "cell_type": "markdown",
      "metadata": {},
      "source": [
        "## Q1. Low-pass and High-pass filtering"
      ]
    },
    {
      "cell_type": "markdown",
      "metadata": {},
      "source": [
        "Low pass Filter:"
      ]
    },
    {
      "cell_type": "code",
      "execution_count": 2,
      "metadata": {},
      "outputs": [],
      "source": [
        "def lpf(lpf_type, image_path, cutoff, order=1):\n",
        "  image = Image.open(image_path).convert('L')\n",
        "\n",
        "  array = np.array(image)\n",
        "  fft_2d = np.fft.fft2(array)\n",
        "  fft_2d = np.fft.fftshift(fft_2d)\n",
        "\n",
        "  mask = np.zeros(fft_2d.shape)\n",
        "\n",
        "  for i in range(fft_2d.shape[0]):\n",
        "    for j in range(fft_2d.shape[1]):\n",
        "      d = np.sqrt((i - fft_2d.shape[0]//2)**2 + (j - fft_2d.shape[1]//2)**2)\n",
        "      if lpf_type.lower() == 'butterworth':\n",
        "        den = 1 + (d/cutoff)**(2*order)\n",
        "        mask[i][j] = 1/den\n",
        "\n",
        "      elif lpf_type.lower() == 'ideal':\n",
        "        if d <= cutoff:\n",
        "          mask[i][j] = 1\n",
        "\n",
        "      elif lpf_type.lower() == 'gaussian':\n",
        "        mask[i][j] = np.exp(-(d**2)/(2*cutoff**2))\n",
        "        \n",
        "      else:\n",
        "        raise TypeError(\"Invalid LPF provided.\")\n",
        "\n",
        "  fft_shifted = mask*fft_2d\n",
        "\n",
        "  fft_unshift = np.fft.ifftshift(fft_shifted)\n",
        "\n",
        "  final = np.real(np.fft.ifft2(fft_unshift))\n",
        "\n",
        "  maximum = np.max(final)\n",
        "  minimum = np.min(final)\n",
        "\n",
        "  if maximum == minimum:\n",
        "    diff = 1\n",
        "\n",
        "  else:\n",
        "    diff = maximum - minimum\n",
        "\n",
        "  final = (255*(final - minimum)/diff).astype(np.uint8)\n",
        "\n",
        "  return fft_2d, mask, fft_shifted, final"
      ]
    },
    {
      "cell_type": "code",
      "execution_count": 3,
      "metadata": {},
      "outputs": [
        {
          "data": {
            "application/vnd.jupyter.widget-view+json": {
              "model_id": "c45c39f8d2684c7383f00e7cf22fe9f9",
              "version_major": 2,
              "version_minor": 0
            },
            "text/plain": [
              "Dropdown(description='LPF Type:', options=('Butterworth', 'Gaussian', 'Ideal'), value='Butterworth')"
            ]
          },
          "metadata": {},
          "output_type": "display_data"
        },
        {
          "data": {
            "application/vnd.jupyter.widget-view+json": {
              "model_id": "7f91eabbbc134b05bb25e00066e92455",
              "version_major": 2,
              "version_minor": 0
            },
            "text/plain": [
              "IntSlider(value=50, continuous_update=False, description='Cutoff:', max=1000, min=10, step=10)"
            ]
          },
          "metadata": {},
          "output_type": "display_data"
        },
        {
          "data": {
            "application/vnd.jupyter.widget-view+json": {
              "model_id": "ebcf61a0ec6548889af9ea160a3f4dfa",
              "version_major": 2,
              "version_minor": 0
            },
            "text/plain": [
              "Text(value='lena.jpg', description='Image File:')"
            ]
          },
          "metadata": {},
          "output_type": "display_data"
        },
        {
          "data": {
            "application/vnd.jupyter.widget-view+json": {
              "model_id": "ae89d7e589bf424ab964d1cc5789b2a0",
              "version_major": 2,
              "version_minor": 0
            },
            "text/plain": [
              "Label(value='Order (only for Butterworth filter):')"
            ]
          },
          "metadata": {},
          "output_type": "display_data"
        },
        {
          "data": {
            "application/vnd.jupyter.widget-view+json": {
              "model_id": "377c9d592e964b31ba3cf376aa49a0cb",
              "version_major": 2,
              "version_minor": 0
            },
            "text/plain": [
              "IntText(value=1)"
            ]
          },
          "metadata": {},
          "output_type": "display_data"
        },
        {
          "data": {
            "application/vnd.jupyter.widget-view+json": {
              "model_id": "aa126933fc78484e97cf061048006e6c",
              "version_major": 2,
              "version_minor": 0
            },
            "text/plain": [
              "Output()"
            ]
          },
          "metadata": {},
          "output_type": "display_data"
        }
      ],
      "source": [
        "lpf_dropdown = widgets.Dropdown(\n",
        "    options=['Butterworth', 'Gaussian', 'Ideal'],\n",
        "    value='Butterworth',\n",
        "    description='LPF Type:',\n",
        ")\n",
        "\n",
        "cutoff_slider = widgets.IntSlider(\n",
        "    value=50,\n",
        "    min=10,\n",
        "    max=1000,\n",
        "    step=10,\n",
        "    description='Cutoff:',\n",
        "    continuous_update=False\n",
        ")\n",
        "\n",
        "image_text = widgets.Text(\n",
        "    value=input('Enter name of image file'),\n",
        "    description='Image File:',\n",
        ")\n",
        "\n",
        "order_label = widgets.Label(\n",
        "    value='Order (only for Butterworth filter):'\n",
        ")\n",
        "order_input = widgets.IntText(\n",
        "    value=1,\n",
        "    disabled=False,\n",
        "    # layout=widgets.Layout(width='100px')\n",
        ")\n",
        "\n",
        "output_widget = Output()\n",
        "\n",
        "display(lpf_dropdown, cutoff_slider, image_text, order_label, order_input, output_widget)\n",
        "\n",
        "def update_lpf(change):\n",
        "    l = lpf_dropdown.value\n",
        "    image = image_text.value\n",
        "    cutoff = cutoff_slider.value\n",
        "    order = order_input.value\n",
        "\n",
        "    order_input.disabled = (l != 'Butterworth')\n",
        "    \n",
        "    with output_widget:\n",
        "        output_widget.clear_output(wait=True)\n",
        "        \n",
        "        original, filter_lpf, fft, final_image = lpf(l, image, cutoff, order)\n",
        "\n",
        "        orig = 20 * np.log(np.abs(original) + 1e-6)\n",
        "        filter_spec = 20 * np.log(np.abs(filter_lpf) + 1e-6)\n",
        "        new = 20 * np.log(np.abs(fft) + 1e-6)\n",
        "\n",
        "        plt.figure(figsize=(20, 8))\n",
        "        \n",
        "        plt.subplot(1, 4, 1)\n",
        "        plt.title(\"FFT Magnitude Spectrum of Original Image\")\n",
        "        plt.imshow(orig, cmap='gray')\n",
        "        plt.axis('off')\n",
        "\n",
        "        plt.subplot(1, 4, 2)\n",
        "        plt.title(\"FFT Magnitude Spectrum of the Filter\")\n",
        "        plt.imshow(filter_spec, cmap='gray')\n",
        "        plt.axis('off')\n",
        "\n",
        "        plt.subplot(1, 4, 3)\n",
        "        plt.title(\"FFT Magnitude Spectrum of Filtered Image\")\n",
        "        plt.imshow(new, cmap='gray')\n",
        "        plt.axis('off')\n",
        "        \n",
        "        plt.subplot(1, 4, 4)\n",
        "        plt.title(\"Filtered Image\")\n",
        "        plt.imshow(final_image, cmap='gray')\n",
        "        plt.axis('off')\n",
        "        \n",
        "        plt.show()\n",
        "\n",
        "lpf_dropdown.observe(update_lpf, names='value')\n",
        "cutoff_slider.observe(update_lpf, names='value')\n",
        "order_input.observe(update_lpf, names='value')\n",
        "image_text.observe(update_lpf, names='value')\n",
        "\n",
        "update_lpf(None)"
      ]
    },
    {
      "cell_type": "markdown",
      "metadata": {},
      "source": [
        "High Pass Filter:"
      ]
    },
    {
      "cell_type": "code",
      "execution_count": null,
      "metadata": {},
      "outputs": [],
      "source": [
        "def hpf(hpf_type, image_path, cutoff, order=1):\n",
        "  image = Image.open(image_path).convert(\"L\")\n",
        "\n",
        "  array = np.array(image)\n",
        "  fft_2d = np.fft.fft2(array)\n",
        "  fft_2d = np.fft.fftshift(fft_2d)\n",
        "\n",
        "  mask = np.zeros(fft_2d.shape)\n",
        "\n",
        "  for i in range(fft_2d.shape[0]):\n",
        "    for j in range(fft_2d.shape[1]):\n",
        "      d = np.sqrt((i - fft_2d.shape[0]//2)**2 + (j - fft_2d.shape[1]//2)**2)\n",
        "      if hpf_type.lower() == 'butterworth':\n",
        "        if d == 0:\n",
        "          den = 1\n",
        "      \n",
        "        else:\n",
        "          den = 1 + (cutoff/d)**(2*order)\n",
        "        mask[i][j] = 1/den\n",
        "\n",
        "      elif hpf_type.lower() == 'ideal':\n",
        "        if d > cutoff:\n",
        "          mask[i][j] = 1\n",
        "\n",
        "      elif hpf_type.lower() == 'gaussian':\n",
        "        mask[i][j] = 1 - np.exp(-(d**2)/(2*cutoff**2))\n",
        "        \n",
        "      else:\n",
        "        raise TypeError(\"Invalid LPF provided.\")\n",
        "\n",
        "  fft_shifted = mask*fft_2d\n",
        "\n",
        "  fft_unshift = np.fft.ifftshift(fft_shifted)\n",
        "\n",
        "  final = np.real(np.fft.ifft2(fft_unshift))\n",
        "\n",
        "  maximum = np.max(final)\n",
        "  minimum = np.min(final)\n",
        "\n",
        "  if maximum == minimum:\n",
        "    diff = 1\n",
        "\n",
        "  else:\n",
        "    diff = maximum - minimum\n",
        "\n",
        "  final = (255*(final - minimum)/diff).astype(np.uint8)\n",
        "\n",
        "  return fft_2d, mask, fft_shifted, final"
      ]
    },
    {
      "cell_type": "code",
      "execution_count": null,
      "metadata": {},
      "outputs": [],
      "source": [
        "hpf_dropdown = widgets.Dropdown(\n",
        "    options=['Butterworth', 'Gaussian', 'Ideal'],\n",
        "    value='Butterworth',\n",
        "    description='LPF Type:',\n",
        ")\n",
        "\n",
        "cutoff_slider = widgets.IntSlider(\n",
        "    value=20,\n",
        "    min=10,\n",
        "    max=1000,\n",
        "    step=10,\n",
        "    description='Cutoff:',\n",
        "    continuous_update=False\n",
        ")\n",
        "\n",
        "image_text = widgets.Text(\n",
        "    value=input('Enter name of image file'),\n",
        "    description='Image File:',\n",
        ")\n",
        "\n",
        "order_label = widgets.Label(\n",
        "    value='Order (only for Butterworth filter):'\n",
        ")\n",
        "order_input = widgets.IntText(\n",
        "    value=1,\n",
        "    disabled=False,\n",
        "    layout=widgets.Layout(width='100px')\n",
        ")\n",
        "\n",
        "output_widget = Output()\n",
        "\n",
        "display(hpf_dropdown, cutoff_slider, image_text, order_label, order_input, output_widget)\n",
        "\n",
        "def update_hpf(change):\n",
        "    h = hpf_dropdown.value\n",
        "    image = image_text.value\n",
        "    cutoff = cutoff_slider.value\n",
        "    order = order_input.value\n",
        "\n",
        "    order_input.disabled = (h != 'Butterworth')\n",
        "    \n",
        "    with output_widget:\n",
        "        output_widget.clear_output(wait=True)\n",
        "        \n",
        "        original, filter_hpf, fft, final_image = hpf(h, image, cutoff, order)\n",
        "\n",
        "        orig = 20 * np.log(np.abs(original) + 1e-6)\n",
        "        filter_spec = 20 * np.log(np.abs(filter_hpf) + 1e-6)\n",
        "        new = 20 * np.log(np.abs(fft) + 1e-6)\n",
        "\n",
        "        plt.figure(figsize=(20, 8))\n",
        "        \n",
        "        plt.subplot(1, 4, 1)\n",
        "        plt.title(\"FFT Magnitude Spectrum of Original Image\")\n",
        "        plt.imshow(orig, cmap='gray')\n",
        "        plt.axis('off')\n",
        "\n",
        "        plt.subplot(1, 4, 2)\n",
        "        plt.title(\"FFT Magnitude Spectrum of the Filter\")\n",
        "        plt.imshow(filter_spec, cmap='gray')\n",
        "        plt.axis('off')\n",
        "\n",
        "        plt.subplot(1, 4, 3)\n",
        "        plt.title(\"FFT Magnitude Spectrum of Filtered Image\")\n",
        "        plt.imshow(new, cmap='gray')\n",
        "        plt.axis('off')\n",
        "        \n",
        "        plt.subplot(1, 4, 4)\n",
        "        plt.title(\"Filtered Image\")\n",
        "        plt.imshow(final_image, cmap='gray')\n",
        "        plt.axis('off')\n",
        "        \n",
        "        plt.show()\n",
        "\n",
        "hpf_dropdown.observe(update_hpf, names='value')\n",
        "cutoff_slider.observe(update_hpf, names='value')\n",
        "order_input.observe(update_hpf, names='value')\n",
        "image_text.observe(update_hpf, names='value')\n",
        "\n",
        "update_hpf(None)"
      ]
    },
    {
      "cell_type": "markdown",
      "metadata": {},
      "source": [
        "## Q2. Creating the Hybrid Image"
      ]
    },
    {
      "cell_type": "code",
      "execution_count": null,
      "metadata": {},
      "outputs": [],
      "source": [
        "def hybrid(image1='input/einstein.png', image2='input/marilyn.png'):\n",
        "    i1 = np.array(Image.open(image1).convert('L'))\n",
        "    i2 = np.array(Image.open(image2).convert('L'))\n",
        "    shape = i1.shape\n",
        "\n",
        "    _, _, image2_low, _ = lpf('gaussian', image2, cutoff=20, order=2)\n",
        "\n",
        "    _, _, image1_high, _ = hpf('gaussian', image1, cutoff=20, order=2)\n",
        "\n",
        "    hybrid = np.fft.ifftshift(image2_low + image1_high)\n",
        "\n",
        "    hybrid_image = np.real(np.fft.ifft2(hybrid, shape))\n",
        "\n",
        "    minimum = np.min(hybrid_image)\n",
        "    maximum = np.max(hybrid_image)\n",
        "\n",
        "    hybrid_image = 255 * (hybrid_image - minimum)/(maximum - minimum)\n",
        "\n",
        "    plt.figure(figsize=(20, 8))\n",
        "\n",
        "    plt.subplot(1, 3, 1)\n",
        "    plt.title(\"Image 1\")\n",
        "    plt.imshow(i1, cmap='gray')\n",
        "    plt.axis('off')\n",
        "\n",
        "    plt.subplot(1, 3, 2)\n",
        "    plt.title(\"Image 2\")\n",
        "    plt.imshow(i2, cmap='gray')\n",
        "    plt.axis('off')\n",
        "\n",
        "    plt.subplot(1, 3, 3)\n",
        "    plt.title(\"Hybrid\")\n",
        "    plt.imshow(hybrid_image, cmap='gray')\n",
        "    plt.axis('off')\n",
        "    plt.show()\n",
        "\n",
        "    imgsave = Image.fromarray(hybrid_image.astype(np.uint8))\n",
        "    imgsave.save('output/hybrid.jpg')\n",
        "\n",
        "    return hybrid_image"
      ]
    },
    {
      "cell_type": "code",
      "execution_count": null,
      "metadata": {},
      "outputs": [],
      "source": [
        "array = hybrid()"
      ]
    },
    {
      "cell_type": "markdown",
      "metadata": {},
      "source": [
        "## Q3. Denoising"
      ]
    },
    {
      "cell_type": "code",
      "execution_count": null,
      "metadata": {},
      "outputs": [],
      "source": [
        "def denoising(img_path):\n",
        "    image = Image.open(img_path).convert('L')\n",
        "    image = np.array(image, dtype=float)\n",
        "\n",
        "    dft = np.fft.fft2(image)\n",
        "    dft_shift = np.fft.fftshift(dft)\n",
        "    magnitude_spectrum = 20 * np.log(np.abs(dft_shift) + 1e-6)\n",
        "\n",
        "    radius = 10\n",
        "    rows, cols = magnitude_spectrum.shape\n",
        "    crow, ccol = rows // 2, cols // 2 \n",
        "    mask = np.ones((rows, cols))\n",
        "    mask2 = np.copy(dft_shift)\n",
        "    Y, X = np.ogrid[:rows, :cols]\n",
        "    dist_from_center = np.sqrt((X - ccol) ** 2 + (Y - crow) ** 2)\n",
        "    mask[dist_from_center <= radius] = 0\n",
        "    mask2[dist_from_center > radius] = 0\n",
        "    magnitude_spectrum_filtered = magnitude_spectrum * mask\n",
        "\n",
        "    size = 2\n",
        "    threshold = 250\n",
        "    brightest_spots = []\n",
        "\n",
        "    for r in range(size, rows - size):\n",
        "        for c in range(size, cols - size):\n",
        "            patch = magnitude_spectrum_filtered[r-size:r+size+1, c-size:c+size+1]\n",
        "            if magnitude_spectrum_filtered[r, c] == np.max(patch):\n",
        "                if magnitude_spectrum_filtered[r, c] > threshold:\n",
        "                    brightest_spots.append((r, c))\n",
        "\n",
        "    line_width = image.shape[0]\n",
        "\n",
        "    median_value = np.median(magnitude_spectrum)\n",
        "    magnitude_spectrum_replaced = np.copy(magnitude_spectrum_filtered)\n",
        "\n",
        "    for spot in brightest_spots:\n",
        "        rr, cc = spot\n",
        "        \n",
        "        start_row = max(rr - line_width // 2, 0)\n",
        "        end_row = min(rr + line_width // 2 + 1, rows)\n",
        "        magnitude_spectrum_replaced[start_row:end_row, cc] = median_value\n",
        "        \n",
        "        start_col = max(cc - line_width // 2, 0)\n",
        "        end_col = min(cc + line_width // 2 + 1, cols)\n",
        "        magnitude_spectrum_replaced[rr, start_col:end_col] = median_value\n",
        "\n",
        "    magnitude_replaced = np.exp(magnitude_spectrum_replaced / 20)\n",
        "    phase_replaced = np.angle(dft_shift)\n",
        "    dft_replaced = magnitude_replaced * np.exp(1j * phase_replaced)\n",
        "\n",
        "    dft_replaced += mask2\n",
        "\n",
        "    magnitude_spectrum_replaced = 20 * np.log(np.abs(dft_replaced) + 1e-6)\n",
        "\n",
        "\n",
        "    image_replaced = np.fft.ifft2(np.fft.ifftshift(dft_replaced))\n",
        "    image_replaced = np.abs(image_replaced) \n",
        "\n",
        "    maximum = np.max(image_replaced)\n",
        "    minimum = np.min(image_replaced)\n",
        "\n",
        "    image_replaced = (255 * (image_replaced - minimum)/(maximum - minimum))\n",
        "\n",
        "    plt.figure(figsize=(20, 8))\n",
        "\n",
        "    plt.subplot(1, 3, 1)\n",
        "    plt.title('Original Magnitude Spectrum')\n",
        "    plt.imshow(magnitude_spectrum, cmap='gray')\n",
        "    plt.axis('off')\n",
        "\n",
        "    plt.subplot(1, 3, 2)\n",
        "    plt.title('Replaced Lines Magnitude Spectrum')\n",
        "    plt.imshow(magnitude_spectrum_replaced, cmap='gray')\n",
        "    plt.axis('off')\n",
        "\n",
        "    plt.subplot(1, 3, 3)\n",
        "    plt.title('Processed Image from Replaced Spectrum')\n",
        "    plt.imshow(image_replaced, cmap='gray')\n",
        "    plt.axis('off')\n",
        "\n",
        "    plt.show()\n",
        "\n",
        "    magnitude_spectrum_img = Image.fromarray((magnitude_spectrum).astype(np.uint8))\n",
        "    magnitude_spectrum_replaced_img = Image.fromarray((magnitude_spectrum_replaced).astype(np.uint8))\n",
        "    image_replaced_img = Image.fromarray((image_replaced).astype(np.uint8))\n",
        "\n",
        "    if not os.path.exists('output'):\n",
        "        os.mkdir('output')\n",
        "\n",
        "    magnitude_spectrum_img.save('output/original_magnitude_spectrum'+img_path)\n",
        "    magnitude_spectrum_replaced_img.save('output/replaced_lines_magnitude_spectrum'+img_path)\n",
        "    image_replaced_img.save('output/processed_image'+img_path)\n",
        "\n",
        "    return image_replaced"
      ]
    },
    {
      "cell_type": "code",
      "execution_count": null,
      "metadata": {},
      "outputs": [],
      "source": [
        "den = denoising(input(\"Enter the name of the image to be denoised: \"))"
      ]
    },
    {
      "cell_type": "code",
      "execution_count": null,
      "metadata": {},
      "outputs": [],
      "source": []
    }
  ],
  "metadata": {
    "colab": {
      "provenance": []
    },
    "kernelspec": {
      "display_name": "Python 3",
      "name": "python3"
    },
    "language_info": {
      "codemirror_mode": {
        "name": "ipython",
        "version": 3
      },
      "file_extension": ".py",
      "mimetype": "text/x-python",
      "name": "python",
      "nbconvert_exporter": "python",
      "pygments_lexer": "ipython3",
      "version": "3.10.11"
    }
  },
  "nbformat": 4,
  "nbformat_minor": 0
}
