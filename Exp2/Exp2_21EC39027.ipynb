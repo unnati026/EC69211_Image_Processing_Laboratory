{
  "cells": [
    {
      "cell_type": "markdown",
      "metadata": {},
      "source": [
        "# Image and Video Processing Lab - Exp 2"
      ]
    },
    {
      "cell_type": "code",
      "execution_count": null,
      "metadata": {},
      "outputs": [],
      "source": [
        "import numpy as np"
      ]
    },
    {
      "cell_type": "markdown",
      "metadata": {
        "id": "VfdSucYHLlTC"
      },
      "source": [
        "### Image read and write"
      ]
    },
    {
      "cell_type": "code",
      "execution_count": null,
      "metadata": {
        "id": "09UgiH2xVwHA"
      },
      "outputs": [],
      "source": [
        "def readBMP(path):\n",
        "\n",
        "    def pixels_24(pixel_array):\n",
        "        pixels = []\n",
        "\n",
        "        for i in range(0, len(pixel_array), 3):\n",
        "\n",
        "            blue = pixel_array[i]\n",
        "            green = pixel_array[i + 1]\n",
        "            red = pixel_array[i + 2]\n",
        "\n",
        "            pixels.append([red, green, blue])\n",
        "\n",
        "        return np.array(pixels)\n",
        "\n",
        "\n",
        "    def pixels_8_gray(pixel_array):\n",
        "        pixels = []\n",
        "\n",
        "        for i in range(len(pixel_array)):\n",
        "            gray = pixel_array[i]\n",
        "\n",
        "            pixels.append([gray, gray, gray])\n",
        "\n",
        "        return np.array(pixels)\n",
        "\n",
        "\n",
        "    def pixels_8_ct(pixel_array, ct):\n",
        "        pixels = []\n",
        "\n",
        "        for i in range(len(pixel_array)):\n",
        "            color_index = pixel_array[i]\n",
        "\n",
        "            blue = ct[color_index][0]\n",
        "            green = ct[color_index][1]\n",
        "            red = ct[color_index][2]\n",
        "\n",
        "            pixels.append([red, green, blue])\n",
        "            \n",
        "        return np.array(pixels)\n",
        "\n",
        "    if path.endswith('.bmp'):\n",
        "        with open(path, 'rb') as image:\n",
        "            img = image.read()\n",
        "\n",
        "            # Extracting BMP header information\n",
        "            width = int.from_bytes(img[18:22], 'little')\n",
        "            height = int.from_bytes(img[22:26], 'little')\n",
        "            size = int.from_bytes(img[2:6], 'little')\n",
        "            offset = int.from_bytes(img[10:14], 'little')\n",
        "            bitwidth = int.from_bytes(img[28:30], 'little')\n",
        "            pixelarray = img[offset:]\n",
        "\n",
        "            # Printing the extracted information\n",
        "            print(f\"Height of the image: {height} pixels\")\n",
        "            print(f\"Width of the image: {width} pixels\")\n",
        "            print(f'Bit Width: {bitwidth} bits per pixel')\n",
        "            print(f'File size: {size} bytes')\n",
        "            print(f'Offset: {offset} bytes')\n",
        "\n",
        "            # Handling color table (if any)\n",
        "            if bitwidth == 24:\n",
        "                colourtable = None\n",
        "                pixels = pixels_24(pixelarray)\n",
        "                print(\"No color table found in image data.\")\n",
        "\n",
        "            elif bitwidth == 8:\n",
        "                if offset == 54:\n",
        "                    colourtable = None\n",
        "                    pixels = pixels_8_gray(pixelarray)\n",
        "                    print(\"No color table found in image data.\")\n",
        "\n",
        "                else:\n",
        "                    ct = img[54:offset]\n",
        "                    colourtable_size = offset - 54\n",
        "                    colourtable = np.array(\n",
        "                        [(ct[i], ct[i + 1], ct[i + 2]) for i in range(0, colourtable_size, 4)])  # BGR Tuple\n",
        "                    pixels = pixels_8_ct(pixelarray, colourtable)\n",
        "                    print(\"Color table found in image data.\")\n",
        "            else:\n",
        "                raise Exception(\"Unsupported bit depth.\")\n",
        "\n",
        "    else:\n",
        "        raise Exception(\"File should be in .bmp format.\")\n",
        "\n",
        "    return (height, width), pixels, offset, colourtable"
      ]
    },
    {
      "cell_type": "code",
      "execution_count": null,
      "metadata": {
        "id": "3b3SUxmoYh5R"
      },
      "outputs": [],
      "source": [
        "def writeBMP(outputfilename, pixelarray, size):\n",
        "    height, width = size\n",
        "\n",
        "    # File Header\n",
        "    filetype = b'BM'\n",
        "    filesize = 54 + width * height * 3\n",
        "    offset = 54\n",
        "    reserved = 0\n",
        "\n",
        "    bitmapfileheader = filetype + filesize.to_bytes(4, 'little') + reserved.to_bytes(2, 'little') + reserved.to_bytes(2, 'little') + offset.to_bytes(4, 'little')\n",
        "\n",
        "    # Info Header\n",
        "    headersize = 40\n",
        "    imagewidth = width\n",
        "    imageheight = height\n",
        "    planes = 1\n",
        "    bitsperpixel = 24\n",
        "    compression = 0\n",
        "    imagesize = 0\n",
        "    xpixelspermeter = 0\n",
        "    ypixelspermeter = 0\n",
        "    totalcolours = 0\n",
        "    importantcolors = 0\n",
        "\n",
        "    bitmapinfoheader = headersize.to_bytes(4, 'little') + imagewidth.to_bytes(4, 'little') + imageheight.to_bytes(4, 'little') + planes.to_bytes(2, 'little') + bitsperpixel.to_bytes(2, 'little') + compression.to_bytes(4, 'little') + imagesize.to_bytes(4,'little') + xpixelspermeter.to_bytes(4, 'little') + ypixelspermeter.to_bytes(4, 'little') + totalcolours.to_bytes(4,'little') + importantcolors.to_bytes(4, 'little')\n",
        "\n",
        "    # Pixel Data\n",
        "    pixeldata = b''\n",
        "    padding_size = (4 - (width * 3) % 4) % 4\n",
        "    padding = b'\\x00' * padding_size\n",
        "\n",
        "    for row in range(height):\n",
        "        for col in range(width):\n",
        "            pixel = pixelarray[row * width + col]\n",
        "            pixeldata += int(pixel[2]).to_bytes(1, 'little') + int(pixel[1]).to_bytes(1, 'little') + int(pixel[0]).to_bytes(1, 'little')\n",
        "        pixeldata += padding\n",
        "\n",
        "    bmp = bitmapfileheader + bitmapinfoheader + pixeldata\n",
        "\n",
        "    with open(outputfilename, 'wb') as f:\n",
        "        f.write(bmp)"
      ]
    },
    {
      "cell_type": "markdown",
      "metadata": {},
      "source": [
        "### Colour Channel Manipulation"
      ]
    },
    {
      "cell_type": "code",
      "execution_count": null,
      "metadata": {},
      "outputs": [],
      "source": [
        "def colourchannelmanipulation(filename, channel=None):\n",
        "    size, pixels, _, _ = readBMP(filename)    \n",
        "\n",
        "    if not channel:\n",
        "        writeBMP(f\"manipulated_{filename}.bmp\", pixels, size)\n",
        "        return\n",
        "    \n",
        "    newfilename = channel + '_manipulated_' + filename\n",
        "\n",
        "    if channel.lower() == 'b':\n",
        "        c = 2\n",
        "    elif channel.lower() == 'g':\n",
        "        c = 1\n",
        "    elif channel.lower() == 'r':\n",
        "        c = 0\n",
        "    else:\n",
        "        raise Exception('Invalid channel')\n",
        "\n",
        "    for pixel in pixels:\n",
        "        pixel[c] = 0\n",
        "\n",
        "    writeBMP(newfilename, pixels, size)"
      ]
    },
    {
      "cell_type": "code",
      "execution_count": null,
      "metadata": {
        "colab": {
          "base_uri": "https://localhost:8080/"
        },
        "id": "xdgTZBWdZGkf",
        "outputId": "2ff9656c-671a-4978-8681-c922743c77a1"
      },
      "outputs": [
        {
          "name": "stdout",
          "output_type": "stream",
          "text": [
            "Height of the image: 512 pixels\n",
            "Width of the image: 512 pixels\n",
            "Bit Width: 24 bits per pixel\n",
            "File size: 786486 bytes\n",
            "Offset: 54 bytes\n",
            "No color table found in image data.\n"
          ]
        }
      ],
      "source": [
        "colourchannelmanipulation('pepper.bmp', 'r')"
      ]
    },
    {
      "cell_type": "code",
      "execution_count": null,
      "metadata": {
        "id": "IQvi2V_SZth0"
      },
      "outputs": [],
      "source": []
    }
  ],
  "metadata": {
    "colab": {
      "provenance": []
    },
    "kernelspec": {
      "display_name": "Python 3",
      "name": "python3"
    },
    "language_info": {
      "name": "python"
    }
  },
  "nbformat": 4,
  "nbformat_minor": 0
}
